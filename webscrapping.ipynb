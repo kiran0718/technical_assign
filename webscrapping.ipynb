{
 "cells": [
  {
   "cell_type": "code",
   "execution_count": null,
   "id": "669926fc",
   "metadata": {},
   "outputs": [],
   "source": [
    "import requests\n",
    "from bs4 import BeautifulSoup\n",
    "import pandas as pd\n",
    "\n",
    "# Function to scrape Amazon for product details\n",
    "def scrape_amazon(product):\n",
    "    headers = {\"User-Agent\": \"Mozilla/5.0\"}\n",
    "    amazon_url = f\"https://www.amazon.in/s?k={product.replace(' ', '+')}\"\n",
    "    \n",
    "    response = requests.get(amazon_url, headers=headers)\n",
    "    soup = BeautifulSoup(response.text, \"html.parser\")\n",
    "    \n",
    "    products = []\n",
    "    \n",
    "    for item in soup.select(\".s-main-slot .s-result-item\")[:5]:  # Get top 5 results\n",
    "        name = item.select_one(\"h2 a span\")\n",
    "        price = item.select_one(\".a-price .a-offscreen\")\n",
    "        rating = item.select_one(\".a-icon-alt\")\n",
    "        \n",
    "        if name and price:\n",
    "            products.append({\n",
    "                \"Product Name\": name.text.strip(),\n",
    "                \"Price\": price.text.strip(),\n",
    "                \"Rating\": rating.text.strip() if rating else \"No Rating\"\n",
    "            })\n",
    "    \n",
    "    return products\n",
    "\n",
    "# Main function\n",
    "def main():\n",
    "    product = input(\"Enter product name to search: \")\n",
    "    \n",
    "    amazon_data = scrape_amazon(product)\n",
    "    \n",
    "    if amazon_data:\n",
    "        df = pd.DataFrame(amazon_data)\n",
    "        df.to_excel(\"amazon_products.xlsx\", index=False)\n",
    "        print(\"\\nData saved to 'amazon_products.xlsx'\")\n",
    "    else:\n",
    "        print(\"\\nNo products found!\")\n",
    "\n",
    "if __name__ == \"__main__\":\n",
    "    main()\n"
   ]
  }
 ],
 "metadata": {
  "kernelspec": {
   "display_name": "Python 3 (ipykernel)",
   "language": "python",
   "name": "python3"
  },
  "language_info": {
   "codemirror_mode": {
    "name": "ipython",
    "version": 3
   },
   "file_extension": ".py",
   "mimetype": "text/x-python",
   "name": "python",
   "nbconvert_exporter": "python",
   "pygments_lexer": "ipython3",
   "version": "3.11.5"
  }
 },
 "nbformat": 4,
 "nbformat_minor": 5
}
